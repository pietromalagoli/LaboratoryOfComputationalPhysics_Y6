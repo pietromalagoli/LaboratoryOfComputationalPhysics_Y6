{
 "cells": [
  {
   "cell_type": "markdown",
   "metadata": {},
   "source": [
    "0\\. Implement a function (whatever you want) and save it to a file (e.g. `function.py`). Import that file and use that function in this notebook.\n"
   ]
  },
  {
   "cell_type": "code",
   "execution_count": 1,
   "metadata": {},
   "outputs": [],
   "source": [
    "\n",
    "from function import myfunk"
   ]
  },
  {
   "cell_type": "markdown",
   "metadata": {},
   "source": [
    "1\\. Write the following as a list comprehension"
   ]
  },
  {
   "cell_type": "code",
   "execution_count": 2,
   "metadata": {},
   "outputs": [
    {
     "name": "stdout",
     "output_type": "stream",
     "text": [
      "[(0, 0), (0, 1), (0, 2), (0, 3), (1, 0), (1, 1), (1, 2), (1, 3), (2, 0), (2, 1), (2, 2), (2, 3)]\n",
      "[0, 4, 16]\n"
     ]
    }
   ],
   "source": [
    "# 1\n",
    "ans1 = []\n",
    "for i in range(3):\n",
    "    for j in range(4):\n",
    "        ans1.append((i, j))\n",
    "print (ans1)\n",
    "\n",
    "# 2\n",
    "ans2 = list(map(lambda x: x*x, filter(lambda x: x%2 == 0, range(5))))\n",
    "print (ans2)\n"
   ]
  },
  {
   "cell_type": "code",
   "execution_count": 3,
   "metadata": {},
   "outputs": [
    {
     "name": "stdout",
     "output_type": "stream",
     "text": [
      "[(0, 0), (0, 1), (0, 2), (0, 3), (1, 0), (1, 1), (1, 2), (1, 3), (2, 0), (2, 1), (2, 2), (2, 3)]\n",
      "True\n"
     ]
    }
   ],
   "source": [
    "#1 - MY\n",
    "ans1_my = [(i,j) for i in range(3) for j in range(4)]\n",
    "print(ans1_my)\n",
    "print(ans1 == ans1_my)"
   ]
  },
  {
   "cell_type": "code",
   "execution_count": 4,
   "metadata": {},
   "outputs": [
    {
     "name": "stdout",
     "output_type": "stream",
     "text": [
      "[0, 4, 16]\n",
      "True\n"
     ]
    }
   ],
   "source": [
    "ans2_my = [myfunk(x) for x in range(5) if x%2 == 0]\n",
    "print(ans2_my)\n",
    "print(ans2 == ans2_my)"
   ]
  },
  {
   "cell_type": "markdown",
   "metadata": {},
   "source": [
    "2\\. Convert the following function into a pure function with no global variables or side effects"
   ]
  },
  {
   "cell_type": "code",
   "execution_count": 5,
   "metadata": {},
   "outputs": [
    {
     "name": "stdout",
     "output_type": "stream",
     "text": [
      "[1, 2, 3, 0, 1, 2, 3, 4]\n",
      "[1, 2, 3, 0, 1, 2, 3, 4]\n"
     ]
    }
   ],
   "source": [
    "x = 5\n",
    "def f(alist):\n",
    "    for i in range(x):\n",
    "         alist.append(i)\n",
    "    return alist\n",
    "\n",
    "alist = [1,2,3]\n",
    "ans = f(alist)\n",
    "print (ans)\n",
    "print (alist) # alist has been changed!"
   ]
  },
  {
   "cell_type": "markdown",
   "metadata": {},
   "source": [
    "*Solution*:"
   ]
  },
  {
   "cell_type": "code",
   "execution_count": 6,
   "metadata": {},
   "outputs": [
    {
     "name": "stdout",
     "output_type": "stream",
     "text": [
      "[1, 2, 3, 0, 1, 2, 3, 4]\n",
      "[1, 2, 3]\n"
     ]
    }
   ],
   "source": [
    "def f(l,x):\n",
    "    result = l + list(range(x))\n",
    "    return result\n",
    "\n",
    "l = [1,2,3]\n",
    "ans = f(l,5)\n",
    "print (ans)\n",
    "print (l) # l has been changed!"
   ]
  },
  {
   "cell_type": "markdown",
   "metadata": {},
   "source": [
    "3\\. Write a `decorator` hello that makes every wrapped function print “Hello!”, i.e. something like:\n",
    "\n",
    "```python\n",
    "@hello\n",
    "def square(x):\n",
    "    return x*x\n",
    "```\n",
    "\n"
   ]
  },
  {
   "cell_type": "code",
   "execution_count": 7,
   "metadata": {},
   "outputs": [],
   "source": [
    "def hello(function):\n",
    "    def wrapper(*args):\n",
    "        print(\"Hello!\")\n",
    "        function(*args)\n",
    "    return wrapper"
   ]
  },
  {
   "cell_type": "code",
   "execution_count": 8,
   "metadata": {},
   "outputs": [
    {
     "name": "stdout",
     "output_type": "stream",
     "text": [
      "Hello!\n",
      "16\n"
     ]
    }
   ],
   "source": [
    "@hello\n",
    "def square(x):\n",
    "    print(myfunk(x))\n",
    "    \n",
    "square(4)"
   ]
  },
  {
   "cell_type": "markdown",
   "metadata": {},
   "source": [
    "4\\. Write the factorial function so that it a) does and b) does not use recursion."
   ]
  },
  {
   "cell_type": "markdown",
   "metadata": {},
   "source": [
    "**With recursion**:"
   ]
  },
  {
   "cell_type": "code",
   "execution_count": 9,
   "metadata": {},
   "outputs": [],
   "source": [
    "def recursion(x:int):\n",
    "    \n",
    "    if x == 1 or x == 0:\n",
    "        return 1\n",
    "    else:\n",
    "        return x*recursion(x-1)"
   ]
  },
  {
   "cell_type": "code",
   "execution_count": 10,
   "metadata": {},
   "outputs": [
    {
     "name": "stdout",
     "output_type": "stream",
     "text": [
      "120\n"
     ]
    }
   ],
   "source": [
    "print(recursion(5))"
   ]
  },
  {
   "cell_type": "markdown",
   "metadata": {},
   "source": [
    "**Without recursion**:"
   ]
  },
  {
   "cell_type": "code",
   "execution_count": 11,
   "metadata": {},
   "outputs": [],
   "source": [
    "def factorial(x:int):\n",
    "    result = 1\n",
    "    for i in range(1,x+1):\n",
    "        result = result*i \n",
    "    return result"
   ]
  },
  {
   "cell_type": "code",
   "execution_count": 12,
   "metadata": {},
   "outputs": [
    {
     "name": "stdout",
     "output_type": "stream",
     "text": [
      "120\n"
     ]
    }
   ],
   "source": [
    "print(factorial(5))"
   ]
  },
  {
   "cell_type": "code",
   "execution_count": 13,
   "metadata": {},
   "outputs": [
    {
     "name": "stdout",
     "output_type": "stream",
     "text": [
      "True\n",
      "True\n",
      "True\n",
      "True\n",
      "True\n",
      "True\n",
      "True\n",
      "True\n",
      "True\n",
      "True\n"
     ]
    }
   ],
   "source": [
    "for j in range(10):\n",
    "    print(recursion(j) == factorial(j))"
   ]
  },
  {
   "cell_type": "markdown",
   "metadata": {},
   "source": [
    "5\\. Use HOFs (zip in particular) to compute the weight of a circle, a disk and a sphere, assuming different radii and different densities:\n",
    "\n",
    "```python\n",
    "densities = {\"Al\":[0.5,1,2],\"Fe\":[3,4,5],\"Pb\": [15,20,30]}\n",
    "radii = [1,2,3]\n",
    "```\n",
    "\n",
    "where the entries of the dictionary's values are the linear, superficial and volumetric densities of the materials respectively.\n",
    "\n",
    "In particular define a list of three lambda functions using a comprehension that computes the circumference, the area and the volume for a given radius.\n"
   ]
  },
  {
   "cell_type": "code",
   "execution_count": 18,
   "metadata": {},
   "outputs": [
    {
     "name": "stdout",
     "output_type": "stream",
     "text": [
      "[6.283185307179586, 12.566370614359172, 18.84955592153876]\n",
      "[3.141592653589793, 12.566370614359172, 28.274333882308138]\n",
      "[4.1887902047863905, 33.510321638291124, 113.09733552923255]\n"
     ]
    }
   ],
   "source": [
    "from math import pi\n",
    "\n",
    "densities = {\"Al\":[0.5,1,2],\"Fe\":[3,4,5],\"Pb\": [15,20,30]}\n",
    "radii = [1,2,3]\n",
    "\n",
    "circumferences = list(map(lambda x: 2*pi*x, radii))\n",
    "print(circumferences)\n",
    "areas = list(map(lambda x: pi*x*x, radii))\n",
    "print(areas)\n",
    "volumes = list(map(lambda x: (4/3)*pi*x*x*x, radii))\n",
    "print(volumes)"
   ]
  },
  {
   "cell_type": "code",
   "execution_count": 19,
   "metadata": {},
   "outputs": [
    {
     "name": "stdout",
     "output_type": "stream",
     "text": [
      "Material: Al\n",
      "  Density: 0.5, Weight: [3.141592653589793, 6.283185307179586, 12.566370614359172]\n",
      "  Density: 1, Weight: [1.5707963267948966, 3.141592653589793, 6.283185307179586]\n",
      "  Density: 2, Weight: [2.0943951023931953, 4.1887902047863905, 8.377580409572781]\n",
      "Material: Fe\n",
      "  Density: 3, Weight: [37.69911184307752, 50.26548245743669, 62.83185307179586]\n",
      "  Density: 4, Weight: [37.69911184307752, 50.26548245743669, 62.83185307179586]\n",
      "  Density: 5, Weight: [100.53096491487338, 134.0412865531645, 167.5516081914556]\n",
      "Material: Pb\n",
      "  Density: 15, Weight: [282.7433388230814, 376.99111843077515, 565.4866776461628]\n",
      "  Density: 20, Weight: [424.11500823462205, 565.4866776461628, 848.2300164692441]\n",
      "  Density: 30, Weight: [1696.460032938488, 2261.9467105846506, 3392.920065876976]\n"
     ]
    }
   ],
   "source": [
    "from math import pi\n",
    "\n",
    "densities = {\"Al\": [0.5, 1, 2], \"Fe\": [3, 4, 5], \"Pb\": [15, 20, 30]}\n",
    "radii = [1, 2, 3]\n",
    "\n",
    "# Define lambda functions for circumference, area, and volume\n",
    "circumference = lambda r: 2 * pi * r\n",
    "area = lambda r: pi * r**2\n",
    "volume = lambda r: (4/3) * pi * r**3\n",
    "\n",
    "# Use zip and map to calculate weights for each material, radius, and density\n",
    "weights = [\n",
    "    list(map(lambda density: density * func(radius), densities[material]))\n",
    "    for material, radius in zip(densities.keys(), radii)\n",
    "    for func in [circumference, area, volume]\n",
    "]\n",
    "\n",
    "# Reshape the weights list to a matrix\n",
    "weights_matrix = [\n",
    "    weights[i:i + len(densities)] for i in range(0, len(weights), len(densities))\n",
    "]\n",
    "\n",
    "# Display the result\n",
    "for material, material_weights in zip(densities.keys(), weights_matrix):\n",
    "    print(f\"Material: {material}\")\n",
    "    for density, weight in zip(densities[material], material_weights):\n",
    "        print(f\"  Density: {density}, Weight: {weight}\")\n"
   ]
  },
  {
   "cell_type": "markdown",
   "metadata": {},
   "source": [
    "6\\. Edit the class defintion to add an instance attribute of is_hungry = True to the Dog class. Then add a method called eat() which changes the value of is_hungry to False when called. Figure out the best way to feed each dog and then output “My dogs are hungry.” if all are hungry or “My dogs are not hungry.” if all are not hungry. The final output should look like this:\n",
    "\n",
    "`I have 3 dogs. \n",
    "Tom is 6. \n",
    "Fletcher is 7. \n",
    "Larry is 9. \n",
    "And they're all mammals, of course. \n",
    "My dogs are not hungry.\n",
    "`\n",
    "\n",
    "```python\n",
    "# Parent class\n",
    "class Dog:\n",
    "\n",
    "    # Class attribute\n",
    "    species = 'mammal'\n",
    "\n",
    "    # Initializer / Instance attributes\n",
    "    def __init__(self, name, age):\n",
    "        self.name = name\n",
    "        self.age = age\n",
    "\n",
    "    # instance method\n",
    "    def description(self):\n",
    "        return \"{} is {} years old\".format(self.name, self.age)\n",
    "\n",
    "    # instance method\n",
    "    def speak(self, sound):\n",
    "        return \"{} says {}\".format(self.name, sound)\n",
    "\n",
    "# Child class (inherits from Dog class)\n",
    "class RussellTerrier(Dog):\n",
    "    def run(self, speed):\n",
    "        return \"{} runs {}\".format(self.name, speed)\n",
    "\n",
    "# Child class (inherits from Dog class)\n",
    "class Bulldog(Dog):\n",
    "    def run(self, speed):\n",
    "        return \"{} runs {}\".format(self.name, speed)\n",
    "```"
   ]
  }
 ],
 "metadata": {
  "kernelspec": {
   "display_name": "Python 3 (ipykernel)",
   "language": "python",
   "name": "python3"
  },
  "language_info": {
   "codemirror_mode": {
    "name": "ipython",
    "version": 3
   },
   "file_extension": ".py",
   "mimetype": "text/x-python",
   "name": "python",
   "nbconvert_exporter": "python",
   "pygments_lexer": "ipython3",
   "version": "3.11.5"
  }
 },
 "nbformat": 4,
 "nbformat_minor": 2
}
