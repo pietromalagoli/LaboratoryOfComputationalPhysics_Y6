{
 "cells": [
  {
   "cell_type": "markdown",
   "metadata": {},
   "source": [
    "Write a program to calculate the number of times each character occurs in a given string *s*. Ignore differneces in capitalization"
   ]
  },
  {
   "cell_type": "code",
   "execution_count": 8,
   "metadata": {},
   "outputs": [],
   "source": [
    "s=\"Write a program that prints the numbers from 1 to 100. \\\n",
    "But for multiples of three print Mickey instead of the number and for the multiples of five print Mouse. \\\n",
    "For numbers which are multiples of both three and five print MickeyMouse\""
   ]
  },
  {
   "cell_type": "code",
   "execution_count": 14,
   "metadata": {},
   "outputs": [
    {
     "name": "stdout",
     "output_type": "stream",
     "text": [
      "w 2\n",
      "r 17\n",
      "i 14\n",
      "t 19\n",
      "e 22\n",
      "  41\n",
      "a 7\n",
      "p 8\n",
      "o 13\n",
      "g 1\n",
      "m 12\n",
      "h 9\n",
      "n 10\n",
      "s 9\n",
      "u 9\n",
      "b 5\n",
      "f 10\n",
      "1 2\n",
      "0 2\n",
      ". 2\n",
      "l 6\n",
      "c 3\n",
      "k 2\n",
      "y 2\n",
      "d 3\n",
      "v 2\n"
     ]
    }
   ],
   "source": [
    "a = {}\n",
    "s = s.lower()\n",
    "for i in s:\n",
    "    if i in a:\n",
    "        a[i] = a[i] + 1\n",
    "    else:\n",
    "        a[i] = 1\n",
    "for j in a: print(j, a[j])"
   ]
  }
 ],
 "metadata": {
  "kernelspec": {
   "display_name": "base",
   "language": "python",
   "name": "python3"
  },
  "language_info": {
   "codemirror_mode": {
    "name": "ipython",
    "version": 3
   },
   "file_extension": ".py",
   "mimetype": "text/x-python",
   "name": "python",
   "nbconvert_exporter": "python",
   "pygments_lexer": "ipython3",
   "version": "3.11.5"
  }
 },
 "nbformat": 4,
 "nbformat_minor": 2
}
