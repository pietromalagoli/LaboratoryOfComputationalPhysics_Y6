{
 "cells": [
  {
   "cell_type": "markdown",
   "metadata": {},
   "source": [
    "Write a program to calculate the number of times each character occurs in a given string *s*. Ignore differneces in capitalization"
   ]
  },
  {
   "cell_type": "code",
   "execution_count": 8,
   "metadata": {},
   "outputs": [],
   "source": [
    "s=\"Write a program that prints the numbers from 1 to 100. \\\n",
    "But for multiples of three print Mickey instead of the number and for the multiples of five print Mouse. \\\n",
    "For numbers which are multiples of both three and five print MickeyMouse\""
   ]
  },
  {
   "cell_type": "code",
   "execution_count": 1,
   "metadata": {},
   "outputs": [],
   "source": [
    "s = \"Se ni’ mondo esistesse un po’ di bene \\\n",
    "e ognun si honsiderasse suo fratello \\\n",
    "ci sarebbe meno pensieri e meno pene \\\n",
    "e il mondo ne sarebbe assai più bello\""
   ]
  },
  {
   "cell_type": "code",
   "execution_count": 2,
   "metadata": {},
   "outputs": [
    {
     "name": "stdout",
     "output_type": "stream",
     "text": [
      "s 15\n",
      "e 24\n",
      "  28\n",
      "n 13\n",
      "i 11\n",
      "’ 2\n",
      "m 4\n",
      "o 12\n",
      "d 4\n",
      "t 2\n",
      "u 3\n",
      "p 4\n",
      "b 6\n",
      "g 1\n",
      "h 1\n",
      "r 5\n",
      "a 6\n",
      "f 1\n",
      "l 5\n",
      "c 1\n",
      "ù 1\n"
     ]
    }
   ],
   "source": [
    "a = {}\n",
    "s = s.lower()\n",
    "for i in s:\n",
    "    if i in a:\n",
    "        a[i] = a[i] + 1\n",
    "    else:\n",
    "        a[i] = 1\n",
    "for j in a: print(j, a[j])"
   ]
  }
 ],
 "metadata": {
  "kernelspec": {
   "display_name": "base",
   "language": "python",
   "name": "python3"
  },
  "language_info": {
   "codemirror_mode": {
    "name": "ipython",
    "version": 3
   },
   "file_extension": ".py",
   "mimetype": "text/x-python",
   "name": "python",
   "nbconvert_exporter": "python",
   "pygments_lexer": "ipython3",
   "version": "3.11.5"
  }
 },
 "nbformat": 4,
 "nbformat_minor": 2
}
