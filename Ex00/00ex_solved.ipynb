{
 "cells": [
  {
   "cell_type": "markdown",
   "metadata": {},
   "source": [
    "1. The MickeyMouse problem\n",
    "\n",
    "a) Write a program that prints the numbers from 1 to 100. But for multiples of 3 print `Mickey` instead of the corresponding number and for the multiples of 5 print `Mouse`. For numbers which are multiples of both three and five print `MickeyMouse`\n"
   ]
  },
  {
   "cell_type": "code",
   "execution_count": 1,
   "metadata": {},
   "outputs": [
    {
     "name": "stdout",
     "output_type": "stream",
     "text": [
      "1\n",
      "2\n",
      "Mickey\n",
      "4\n",
      "Mouse\n",
      "Mickey\n",
      "7\n",
      "8\n",
      "Mickey\n",
      "Mouse\n",
      "11\n",
      "Mickey\n",
      "13\n",
      "14\n",
      "MickeyMouse\n",
      "16\n",
      "17\n",
      "Mickey\n",
      "19\n",
      "Mouse\n",
      "Mickey\n",
      "22\n",
      "23\n",
      "Mickey\n",
      "Mouse\n",
      "26\n",
      "Mickey\n",
      "28\n",
      "29\n",
      "MickeyMouse\n",
      "31\n",
      "32\n",
      "Mickey\n",
      "34\n",
      "Mouse\n",
      "Mickey\n",
      "37\n",
      "38\n",
      "Mickey\n",
      "Mouse\n",
      "41\n",
      "Mickey\n",
      "43\n",
      "44\n",
      "MickeyMouse\n",
      "46\n",
      "47\n",
      "Mickey\n",
      "49\n",
      "Mouse\n",
      "Mickey\n",
      "52\n",
      "53\n",
      "Mickey\n",
      "Mouse\n",
      "56\n",
      "Mickey\n",
      "58\n",
      "59\n",
      "MickeyMouse\n",
      "61\n",
      "62\n",
      "Mickey\n",
      "64\n",
      "Mouse\n",
      "Mickey\n",
      "67\n",
      "68\n",
      "Mickey\n",
      "Mouse\n",
      "71\n",
      "Mickey\n",
      "73\n",
      "74\n",
      "MickeyMouse\n",
      "76\n",
      "77\n",
      "Mickey\n",
      "79\n",
      "Mouse\n",
      "Mickey\n",
      "82\n",
      "83\n",
      "Mickey\n",
      "Mouse\n",
      "86\n",
      "Mickey\n",
      "88\n",
      "89\n",
      "MickeyMouse\n",
      "91\n",
      "92\n",
      "Mickey\n",
      "94\n",
      "Mouse\n",
      "Mickey\n",
      "97\n",
      "98\n",
      "Mickey\n",
      "Mouse\n",
      "['1', '2', 'Mickey', '4', 'Mouse', 'Mickey', '7', '8', 'Mickey', 'Mouse', '11', 'Mickey', '13', '14', 'MickeyMouse', '16', '17', 'Mickey', '19', 'Mouse', 'Mickey', '22', '23', 'Mickey', 'Mouse', '26', 'Mickey', '28', '29', 'MickeyMouse', '31', '32', 'Mickey', '34', 'Mouse', 'Mickey', '37', '38', 'Mickey', 'Mouse', '41', 'Mickey', '43', '44', 'MickeyMouse', '46', '47', 'Mickey', '49', 'Mouse', 'Mickey', '52', '53', 'Mickey', 'Mouse', '56', 'Mickey', '58', '59', 'MickeyMouse', '61', '62', 'Mickey', '64', 'Mouse', 'Mickey', '67', '68', 'Mickey', 'Mouse', '71', 'Mickey', '73', '74', 'MickeyMouse', '76', '77', 'Mickey', '79', 'Mouse', 'Mickey', '82', '83', 'Mickey', 'Mouse', '86', 'Mickey', '88', '89', 'MickeyMouse', '91', '92', 'Mickey', '94', 'Mouse', 'Mickey', '97', '98', 'Mickey', 'Mouse']\n"
     ]
    }
   ],
   "source": [
    "a = \"\"\n",
    "l = []\n",
    "for i in range(1,101):\n",
    "    a = \"\"\n",
    "    if i%3==0:\n",
    "        a += \"Mickey\"\n",
    "    if i%5==0:\n",
    "        a += \"Mouse\"\n",
    "    if a == \"\":\n",
    "        a = str(i)\n",
    "    l.append(a)\n",
    "    print(a)\n",
    "print(l)    "
   ]
  },
  {
   "cell_type": "markdown",
   "metadata": {},
   "source": [
    "b) Put the result in a tuple and substitute `Mickey` with `Donald` and `Mouse` with `Duck`"
   ]
  },
  {
   "cell_type": "code",
   "execution_count": 71,
   "metadata": {},
   "outputs": [
    {
     "name": "stdout",
     "output_type": "stream",
     "text": [
      "('1', '2', 'Donald', '4', 'Duck', 'Donald', '7', '8', 'Donald', 'Duck', '11', 'Donald', '13', '14', 'DonaldDuck', '16', '17', 'Donald', '19', 'Duck', 'Donald', '22', '23', 'Donald', 'Duck', '26', 'Donald', '28', '29', 'DonaldDuck', '31', '32', 'Donald', '34', 'Duck', 'Donald', '37', '38', 'Donald', 'Duck', '41', 'Donald', '43', '44', 'DonaldDuck', '46', '47', 'Donald', '49', 'Duck', 'Donald', '52', '53', 'Donald', 'Duck', '56', 'Donald', '58', '59', 'DonaldDuck', '61', '62', 'Donald', '64', 'Duck', 'Donald', '67', '68', 'Donald', 'Duck', '71', 'Donald', '73', '74', 'DonaldDuck', '76', '77', 'Donald', '79', 'Duck', 'Donald', '82', '83', 'Donald', 'Duck', '86', 'Donald', '88', '89', 'DonaldDuck', '91', '92', 'Donald', '94', 'Duck', 'Donald', '97', '98', 'Donald', 'Duck')\n"
     ]
    }
   ],
   "source": [
    "for i in range(0,100):\n",
    "    if l[i] == \"Mickey\":\n",
    "         l[i] = \"Donald\"\n",
    "    if l[i] == \"Mouse\":\n",
    "        l[i] = \"Duck\"\n",
    "    if l[i] == \"MickeyMouse\":\n",
    "        l[i] = \"DonaldDuck\"\n",
    "t = tuple(l)\n",
    "print(t)"
   ]
  },
  {
   "cell_type": "markdown",
   "metadata": {},
   "source": [
    "2\\. The swap function\n",
    "\n",
    "Write a function that swap the values of two input variables x and y (whatever the type). Try to do that also without a temporary variable"
   ]
  },
  {
   "cell_type": "code",
   "execution_count": 4,
   "metadata": {},
   "outputs": [],
   "source": [
    "def my_swap(x,y):\n",
    "    a = x\n",
    "    b = y\n",
    "    x = b\n",
    "    y = a\n",
    "    print(x,y)"
   ]
  },
  {
   "cell_type": "code",
   "execution_count": 5,
   "metadata": {},
   "outputs": [
    {
     "name": "stdout",
     "output_type": "stream",
     "text": [
      "7 5\n"
     ]
    }
   ],
   "source": [
    "my_swap(5,7)"
   ]
  },
  {
   "cell_type": "markdown",
   "metadata": {},
   "source": [
    "To do that without temporary variables:"
   ]
  },
  {
   "cell_type": "code",
   "execution_count": 6,
   "metadata": {},
   "outputs": [],
   "source": [
    "def swap_1(x, y):\n",
    "    x, y = y, x  # Swap the values of x and y using tuple packing/unpacking\n",
    "    return x, y  # Return the swapped values"
   ]
  },
  {
   "cell_type": "code",
   "execution_count": 7,
   "metadata": {},
   "outputs": [
    {
     "name": "stdout",
     "output_type": "stream",
     "text": [
      "7\n",
      "5\n"
     ]
    }
   ],
   "source": [
    "a = 5\n",
    "b = 7\n",
    "a, b = swap_1(a,b)\n",
    "print(a)\n",
    "print(b)"
   ]
  },
  {
   "cell_type": "markdown",
   "metadata": {},
   "source": [
    "3\\. Computing the distance\n",
    "\n",
    "Write a function that calculates and returns the euclidean distance between two points *u* and *v*, where *u* and *v* are both 2-tuples *(x,y)*. For example, if *u=(3,0)* and *v=(0,4)*, the function should return 5"
   ]
  },
  {
   "cell_type": "code",
   "execution_count": 8,
   "metadata": {},
   "outputs": [],
   "source": [
    "import math"
   ]
  },
  {
   "cell_type": "code",
   "execution_count": 25,
   "metadata": {},
   "outputs": [],
   "source": [
    "def distance(u, v):\n",
    "    try:\n",
    "        a = u[1]\n",
    "    except:\n",
    "        print(\"Error: the first input is not a point.\")\n",
    "        return None\n",
    "    try:\n",
    "        b = v[1]\n",
    "    except:\n",
    "        print(\"Error: the second input is not a point.\")\n",
    "        return None\n",
    "    \n",
    "    d = math.sqrt(((u[0]-v[0])**2) + ((u[1]-v[1])**2))\n",
    "    return d\n"
   ]
  },
  {
   "cell_type": "code",
   "execution_count": 14,
   "metadata": {},
   "outputs": [
    {
     "name": "stdout",
     "output_type": "stream",
     "text": [
      "5.0\n"
     ]
    }
   ],
   "source": [
    "print(distance((3,0),(0,4)))"
   ]
  },
  {
   "cell_type": "code",
   "execution_count": 13,
   "metadata": {},
   "outputs": [
    {
     "name": "stdout",
     "output_type": "stream",
     "text": [
      "The first input is not a point!\n",
      "None\n"
     ]
    }
   ],
   "source": [
    "print(distance(5,(0,4)))"
   ]
  },
  {
   "cell_type": "markdown",
   "metadata": {},
   "source": [
    "4\\. Counting letters\n",
    "\n",
    "Write a program to calculate the number of times each character occurs in a given string *s*. Ignore differneces in capitalization"
   ]
  },
  {
   "cell_type": "code",
   "execution_count": 15,
   "metadata": {},
   "outputs": [],
   "source": [
    "s=\"Write a program that prints the numbers from 1 to 100. \\\n",
    "But for multiples of three print Mickey instead of the number and for the multiples of five print Mouse. \\\n",
    "For numbers which are multiples of both three and five print MickeyMouse\""
   ]
  },
  {
   "cell_type": "code",
   "execution_count": 16,
   "metadata": {},
   "outputs": [
    {
     "name": "stdout",
     "output_type": "stream",
     "text": [
      "w 2\n",
      "r 17\n",
      "i 14\n",
      "t 19\n",
      "e 22\n",
      "  41\n",
      "a 7\n",
      "p 8\n",
      "o 13\n",
      "g 1\n",
      "m 12\n",
      "h 9\n",
      "n 10\n",
      "s 9\n",
      "u 9\n",
      "b 5\n",
      "f 10\n",
      "1 2\n",
      "0 2\n",
      ". 2\n",
      "l 6\n",
      "c 3\n",
      "k 2\n",
      "y 2\n",
      "d 3\n",
      "v 2\n"
     ]
    }
   ],
   "source": [
    "a = {}\n",
    "s = s.lower()\n",
    "for i in s:\n",
    "    if i in a:\n",
    "        a[i] = a[i] + 1\n",
    "    else:\n",
    "        a[i] = 1\n",
    "for j in a: print(j, a[j])"
   ]
  },
  {
   "cell_type": "markdown",
   "metadata": {},
   "source": [
    "5\\. Isolating the unique\n",
    "\n",
    "Write a function that determines and count the unique numbers in the list *l*"
   ]
  },
  {
   "cell_type": "code",
   "execution_count": null,
   "metadata": {},
   "outputs": [],
   "source": [
    "l = [36, 45, 58, 3, 74, 96, 64, 45, 31, 10, 24, 19, 33, 86, 99, 18, 63, 70, 85,\n",
    " 85, 63, 47, 56, 42, 70, 84, 88, 55, 20, 54, 8, 56, 51, 79, 81, 57, 37, 91,\n",
    " 1, 84, 84, 36, 66, 9, 89, 50, 42, 91, 50, 95, 90, 98, 39, 16, 82, 31, 92, 41,\n",
    " 45, 30, 66, 70, 34, 85, 94, 5, 3, 36, 72, 91, 84, 34, 87, 75, 53, 51, 20, 89, 51, 20]"
   ]
  },
  {
   "cell_type": "code",
   "execution_count": 28,
   "metadata": {},
   "outputs": [],
   "source": [
    "def unique_count(l):\n",
    "    try: \n",
    "        a = l[0]\n",
    "    except:\n",
    "        print(\"Error: The input is not a list.\")\n",
    "        return None\n",
    "    \n",
    "    a = {}\n",
    "    for i in l:\n",
    "        if i in a:\n",
    "            a[i] += 1\n",
    "        else:\n",
    "            a[i] = 1\n",
    "    count = 0\n",
    "    uniques = []\n",
    "    for i in a:\n",
    "        if a[i] == 1:\n",
    "            uniques.append(i)\n",
    "            count += 1 \n",
    "    print(\"Unique elements:\", uniques)\n",
    "    print(\"Numbers of unique elements: \",  count)"
   ]
  },
  {
   "cell_type": "code",
   "execution_count": 29,
   "metadata": {},
   "outputs": [
    {
     "name": "stdout",
     "output_type": "stream",
     "text": [
      "Unique elements: ['1', '2', '4', '7', '8', '11', '13', '14', '16', '17', '19', '22', '23', '26', '28', '29', '31', '32', '34', '37', '38', '41', '43', '44', '46', '47', '49', '52', '53', '56', '58', '59', '61', '62', '64', '67', '68', '71', '73', '74', '76', '77', '79', '82', '83', '86', '88', '89', '91', '92', '94', '97', '98']\n",
      "Numbers of unique elements:  53\n"
     ]
    }
   ],
   "source": [
    "unique_count(l)"
   ]
  },
  {
   "cell_type": "code",
   "execution_count": 31,
   "metadata": {},
   "outputs": [
    {
     "name": "stdout",
     "output_type": "stream",
     "text": [
      "Error: The input is not a list.\n"
     ]
    }
   ],
   "source": [
    "x = 5\n",
    "unique_count(x)"
   ]
  },
  {
   "cell_type": "markdown",
   "metadata": {},
   "source": [
    "6\\. Combination of functions\n",
    "\n",
    "Write two functions - one that returns the square of a number, and one that returns the cube. Now write a third function that returns the number raised to the 6th power using the two previous functions."
   ]
  },
  {
   "cell_type": "markdown",
   "metadata": {},
   "source": [
    "Square:"
   ]
  },
  {
   "cell_type": "code",
   "execution_count": 47,
   "metadata": {},
   "outputs": [],
   "source": [
    "def square(x): \n",
    "    try:\n",
    "        x + 1 \n",
    "    except:\n",
    "        print(\"Error: the input has to be a number.\")\n",
    "        return None\n",
    "    return x*x "
   ]
  },
  {
   "cell_type": "markdown",
   "metadata": {},
   "source": [
    "Cube:"
   ]
  },
  {
   "cell_type": "code",
   "execution_count": 44,
   "metadata": {},
   "outputs": [],
   "source": [
    "def cube(x):\n",
    "    try:\n",
    "        x+1\n",
    "    except:\n",
    "        print(\"Error: the input has to be a number.\")\n",
    "        return None\n",
    "    return x*x*x"
   ]
  },
  {
   "cell_type": "markdown",
   "metadata": {},
   "source": [
    "Test:"
   ]
  },
  {
   "cell_type": "code",
   "execution_count": 69,
   "metadata": {},
   "outputs": [
    {
     "name": "stdout",
     "output_type": "stream",
     "text": [
      "16\n",
      "27\n",
      "Error: the input has to be a number.\n",
      "None\n",
      "Error: the input has to be a number.\n",
      "None\n"
     ]
    }
   ],
   "source": [
    "print(square(4))\n",
    "print(cube(3))\n",
    "print(square(\"v\"))\n",
    "print(cube((3,4)))"
   ]
  },
  {
   "cell_type": "markdown",
   "metadata": {},
   "source": [
    "Combination:"
   ]
  },
  {
   "cell_type": "code",
   "execution_count": 37,
   "metadata": {},
   "outputs": [],
   "source": [
    "def comb(x):\n",
    "    return square(cube(x))"
   ]
  },
  {
   "cell_type": "markdown",
   "metadata": {},
   "source": [
    "Test:"
   ]
  },
  {
   "cell_type": "code",
   "execution_count": 50,
   "metadata": {},
   "outputs": [
    {
     "name": "stdout",
     "output_type": "stream",
     "text": [
      "64\n",
      "Error: the input has to be a number.\n",
      "Error: the input has to be a number.\n",
      "None\n"
     ]
    }
   ],
   "source": [
    "print(comb(2))\n",
    "print(comb(\"c\"))"
   ]
  },
  {
   "cell_type": "markdown",
   "metadata": {},
   "source": [
    "7\\. Cubes\n",
    "\n",
    "Create a list of the cubes of x for x in *[0, 10]* using:\n",
    "\n",
    "a) a for loop"
   ]
  },
  {
   "cell_type": "code",
   "execution_count": 52,
   "metadata": {},
   "outputs": [
    {
     "name": "stdout",
     "output_type": "stream",
     "text": [
      "[0, 1, 8, 27, 64, 125, 216, 343, 512, 729, 1000]\n"
     ]
    }
   ],
   "source": [
    "a = []\n",
    "for x in range(0,11):\n",
    "    a.append(x**3)\n",
    "print(a)"
   ]
  },
  {
   "cell_type": "markdown",
   "metadata": {},
   "source": [
    "b) a list comprehension"
   ]
  },
  {
   "cell_type": "code",
   "execution_count": 51,
   "metadata": {},
   "outputs": [
    {
     "name": "stdout",
     "output_type": "stream",
     "text": [
      "[0, 1, 8, 27, 64, 125, 216, 343, 512, 729, 1000]\n"
     ]
    }
   ],
   "source": [
    "b = [x**3 for x in range(0,11)]\n",
    "print(b)"
   ]
  },
  {
   "cell_type": "code",
   "execution_count": 53,
   "metadata": {},
   "outputs": [
    {
     "name": "stdout",
     "output_type": "stream",
     "text": [
      "True\n"
     ]
    }
   ],
   "source": [
    "print(a == b)"
   ]
  },
  {
   "cell_type": "markdown",
   "metadata": {},
   "source": [
    "8\\. Nested list comprehension\n",
    "\n",
    "A Pythagorean triple is an integer solution to the Pythagorean theorem $a^2+b^2=c^2$. The first Pythagorean triple is (3,4,5). Find and put in a tuple all unique Pythagorean triples for the positive integers a, b and c less than 100."
   ]
  },
  {
   "cell_type": "code",
   "execution_count": 56,
   "metadata": {},
   "outputs": [
    {
     "name": "stdout",
     "output_type": "stream",
     "text": [
      "Pythagorean triples between 1 and 100: [(3, 4, 5), (5, 12, 13), (6, 8, 10), (7, 24, 25), (8, 15, 17), (9, 12, 15), (9, 40, 41), (10, 24, 26), (11, 60, 61), (12, 16, 20), (12, 35, 37), (13, 84, 85), (14, 48, 50), (15, 20, 25), (15, 36, 39), (16, 30, 34), (16, 63, 65), (18, 24, 30), (18, 80, 82), (20, 21, 29), (20, 48, 52), (21, 28, 35), (21, 72, 75), (24, 32, 40), (24, 45, 51), (24, 70, 74), (25, 60, 65), (27, 36, 45), (28, 45, 53), (28, 96, 100), (30, 40, 50), (30, 72, 78), (32, 60, 68), (33, 44, 55), (33, 56, 65), (35, 84, 91), (36, 48, 60), (36, 77, 85), (39, 52, 65), (39, 80, 89), (40, 42, 58), (40, 75, 85), (42, 56, 70), (45, 60, 75), (48, 55, 73), (48, 64, 80), (51, 68, 85), (54, 72, 90), (57, 76, 95), (60, 63, 87), (60, 80, 100), (65, 72, 97)]\n"
     ]
    }
   ],
   "source": [
    "triples = []\n",
    "for a in range(1,101):\n",
    "    for b in range(a,101):\n",
    "        for c in range(b,101):\n",
    "            if c*c == a*a + b*b:\n",
    "                triples.append((a,b,c))\n",
    "print(\"Pythagorean triples between 1 and 100:\", triples)"
   ]
  },
  {
   "cell_type": "markdown",
   "metadata": {},
   "source": [
    "Other method using nested list comprehension:"
   ]
  },
  {
   "cell_type": "code",
   "execution_count": 63,
   "metadata": {},
   "outputs": [
    {
     "name": "stdout",
     "output_type": "stream",
     "text": [
      "Pythagorean triples between 1 and 100: [(3, 4, 5), (5, 12, 13), (6, 8, 10), (7, 24, 25), (8, 15, 17), (9, 12, 15), (9, 40, 41), (10, 24, 26), (11, 60, 61), (12, 16, 20), (12, 35, 37), (13, 84, 85), (14, 48, 50), (15, 20, 25), (15, 36, 39), (16, 30, 34), (16, 63, 65), (18, 24, 30), (18, 80, 82), (20, 21, 29), (20, 48, 52), (21, 28, 35), (21, 72, 75), (24, 32, 40), (24, 45, 51), (24, 70, 74), (25, 60, 65), (27, 36, 45), (28, 45, 53), (28, 96, 100), (30, 40, 50), (30, 72, 78), (32, 60, 68), (33, 44, 55), (33, 56, 65), (35, 84, 91), (36, 48, 60), (36, 77, 85), (39, 52, 65), (39, 80, 89), (40, 42, 58), (40, 75, 85), (42, 56, 70), (45, 60, 75), (48, 55, 73), (48, 64, 80), (51, 68, 85), (54, 72, 90), (57, 76, 95), (60, 63, 87), (60, 80, 100), (65, 72, 97)]\n"
     ]
    }
   ],
   "source": [
    "nested_triples = [(a,b,c)for a in range(1,101) for b in range(a,101) for c in range(b,101) if a**2+b**2==c**2]\n",
    "print(\"Pythagorean triples between 1 and 100:\", nested_triples)"
   ]
  },
  {
   "cell_type": "markdown",
   "metadata": {},
   "source": [
    "Verify the two methods are equivalent:"
   ]
  },
  {
   "cell_type": "code",
   "execution_count": 64,
   "metadata": {},
   "outputs": [
    {
     "name": "stdout",
     "output_type": "stream",
     "text": [
      "True\n"
     ]
    }
   ],
   "source": [
    "print(triples == nested_triples)"
   ]
  },
  {
   "cell_type": "markdown",
   "metadata": {},
   "source": [
    "9\\. Normalization\n",
    "\n",
    "Write a function that takes a tuple of numbers and returns it with the entries normalized to one"
   ]
  },
  {
   "cell_type": "code",
   "execution_count": 80,
   "metadata": {},
   "outputs": [],
   "source": [
    "def normalize(l:tuple):\n",
    "    try:\n",
    "        if not isinstance(l, tuple):\n",
    "            raise TypeError(\"the input must be a tuple.\")\n",
    "    except TypeError as e:\n",
    "        print(\"Error:\", e)\n",
    "        return None\n",
    "    a = []\n",
    "    for i in l:\n",
    "        a.append(i//i)\n",
    "    t = tuple(a)\n",
    "    return t"
   ]
  },
  {
   "cell_type": "code",
   "execution_count": 82,
   "metadata": {},
   "outputs": [
    {
     "name": "stdout",
     "output_type": "stream",
     "text": [
      "(1, 1, 1)\n",
      "Error: the input must be a tuple.\n"
     ]
    }
   ],
   "source": [
    "a = (2,3,4)\n",
    "b = normalize(a)\n",
    "print(b)\n",
    "normalize(3)"
   ]
  }
 ],
 "metadata": {
  "kernelspec": {
   "display_name": "Python 3 (ipykernel)",
   "language": "python",
   "name": "python3"
  },
  "language_info": {
   "codemirror_mode": {
    "name": "ipython",
    "version": 3
   },
   "file_extension": ".py",
   "mimetype": "text/x-python",
   "name": "python",
   "nbconvert_exporter": "python",
   "pygments_lexer": "ipython3",
   "version": "3.11.5"
  }
 },
 "nbformat": 4,
 "nbformat_minor": 2
}
