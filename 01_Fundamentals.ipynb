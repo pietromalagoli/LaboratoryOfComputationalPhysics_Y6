{
 "cells": [
  {
   "cell_type": "markdown",
   "metadata": {},
   "source": [
    "# Modules/packages/libraries\n",
    "\n",
    "Definitions:\n",
    "\n",
    "  * Modules:\n",
    "  A module is a file which contains python functions, global variables etc. It is nothing but .py file which has python executable code / statement.\n",
    "\n",
    "  * Packages:\n",
    "  A package is a namespace which contains multiple package/modules. It is a directory which contains a special file `__init__.py`\n",
    "  \n",
    "  * Libraries:\n",
    "  A library is a collection of various packages. There is no difference between package and python library conceptually.\n",
    "  \n",
    "Modules/packages/libraries can be easily \"imported\" and made functional in your python code. A set of libriaries comes with every python installation. Others can be installed locally and then imported. Your own code sitting somewhere else in your local computer can be imported too.\n",
    "\n",
    "Further details (very important!) on packages and how to create them can be found online. We may find the need of creating our own during the course."
   ]
  },
  {
   "cell_type": "code",
   "execution_count": 1,
   "metadata": {},
   "outputs": [
    {
     "name": "stdout",
     "output_type": "stream",
     "text": [
      "3.141592653589793\n",
      "3.141592653589793\n",
      "3.141592653589793\n"
     ]
    }
   ],
   "source": [
    "###### all the \"stuff\" that is in the math library can be used\n",
    "import math\n",
    "print(math.pi)\n",
    "\n",
    "# you can give math a label for convenience\n",
    "import math as m\n",
    "print (m.pi)\n",
    "\n",
    "# alternatively you can import only a given \"thing\" from the library\n",
    "from math import pi    #you can add several libraries at once, just list them separated by a \", \"\n",
    "print (pi)\n",
    "\n",
    "# or just get everything (very dangerous!!!)\n",
    "#from math import *\n",
    "#print (sqrt(7))"
   ]
  },
  {
   "cell_type": "markdown",
   "metadata": {},
   "source": [
    "To know which modules are there for you to use just type:"
   ]
  },
  {
   "cell_type": "code",
   "execution_count": 2,
   "metadata": {},
   "outputs": [
    {
     "name": "stdout",
     "output_type": "stream",
     "text": [
      "\n",
      "Please wait a moment while I gather a list of all available modules...\n",
      "\n"
     ]
    },
    {
     "name": "stderr",
     "output_type": "stream",
     "text": [
      "WARNING: AstropyDeprecationWarning: The private astropy._erfa module has been made into its own package, pyerfa, which is a dependency of astropy and can be imported directly using \"import erfa\" [astropy._erfa]\n",
      "/home/pietromalagoli/anaconda3/envs/labcompute/lib/python3.11/site-packages/nltk/twitter/__init__.py:20: UserWarning: The twython library has not been installed. Some functionality from the twitter package will not be available.\n",
      "  warnings.warn(\n",
      "/home/pietromalagoli/anaconda3/envs/labcompute/lib/python3.11/pkgutil.py:92: NumbaPendingDeprecationWarning: \u001b[1mThe 'pycc' module is pending deprecation. Replacement technology is being developed.\n",
      "\n",
      "Pending Deprecation in Numba 0.57.0. For more information please see: https://numba.readthedocs.io/en/stable/reference/deprecation.html#deprecation-of-the-numba-pycc-module\u001b[0m\n",
      "  __import__(info.name)\n",
      "/home/pietromalagoli/anaconda3/envs/labcompute/lib/python3.11/pkgutil.py:92: UserWarning: The numpy.array_api submodule is still experimental. See NEP 47.\n",
      "  __import__(info.name)\n",
      "/home/pietromalagoli/anaconda3/envs/labcompute/lib/python3.11/site-packages/_distutils_hack/__init__.py:33: UserWarning: Setuptools is replacing distutils.\n",
      "  warnings.warn(\"Setuptools is replacing distutils.\")\n",
      "None of PyTorch, TensorFlow >= 2.0, or Flax have been found. Models won't be available and only tokenizers, configuration and file/data utilities can be used.\n"
     ]
    },
    {
     "name": "stdout",
     "output_type": "stream",
     "text": [
      "IPython             chardet             keyword             rlcompleter\n",
      "OpenSSL             charset_normalizer  kiwisolver          rope\n",
      "PIL                 chunk               lazy_loader         rtree\n",
      "PyQt5               click               lazy_object_proxy   runpy\n",
      "TBB                 cloudpickle         lib2to3             s3fs\n",
      "__future__          clyent              linecache           safetensors\n",
      "__hello__           cmath               linkify_it          sched\n",
      "__phello__          cmd                 llvmlite            scipy\n",
      "_abc                code                lmdb                scrapy\n",
      "_aix_support        codecs              locale              seaborn\n",
      "_argon2_cffi_bindings codeop              locket              secrets\n",
      "_ast                collections         logging             secretstorage\n",
      "_asyncio            colorama            lxml                select\n",
      "_bisect             colorcet            lz4                 selectors\n",
      "_black_version      colorsys            lzma                send2trash\n",
      "_blake2             comm                mailbox             service_identity\n",
      "_bootsubprocess     compileall          mailcap             setuptools\n",
      "_bz2                concurrent          markdown            shelve\n",
      "_cffi_backend       conda               markdown_it         shlex\n",
      "_codecs             conda_content_trust markupsafe          shutil\n",
      "_codecs_cn          conda_env           marshal             signal\n",
      "_codecs_hk          conda_package_handling math                sipbuild\n",
      "_codecs_iso2022     conda_package_streaming matplotlib          site\n",
      "_codecs_jp          conda_token         matplotlib_inline   six\n",
      "_codecs_kr          configparser        mccabe              skimage\n",
      "_codecs_tw          constantly          mdit_py_plugins     sklearn\n",
      "_collections        contextlib          mdurl               sklearnex\n",
      "_collections_abc    contextvars         mimetypes           slugify\n",
      "_compat_pickle      contourpy           mistune             smart_open\n",
      "_compression        cookiecutter        mkl                 smtpd\n",
      "_contextvars        copy                mkl_fft             smtplib\n",
      "_crypt              copyreg             mmap                snappy\n",
      "_csv                cpuinfo             modulefinder        sndhdr\n",
      "_ctypes             crypt               more_itertools      sniffio\n",
      "_ctypes_test        cryptography        mpmath              snowballstemmer\n",
      "_curses             cssselect           msgpack             socket\n",
      "_curses_panel       csv                 multidict           socketserver\n",
      "_datetime           ctypes              multipledispatch    socks\n",
      "_decimal            curl                multiprocess        sockshandler\n",
      "_distutils_hack     curses              multiprocessing     sortedcontainers\n",
      "_elementtree        cycler              munkres             soupsieve\n",
      "_functools          cytoolz             mypy_extensions     sphinx\n",
      "_hashlib            daal4py             navigator_updater   spwd\n",
      "_heapq              dask                nbclassic           spyder\n",
      "_imp                dataclasses         nbclient            spyder_kernels\n",
      "_io                 datasets            nbconvert           sqlalchemy\n",
      "_json               datashader          nbformat            sqlite3\n",
      "_locale             datashape           nest_asyncio        sre_compile\n",
      "_lsprof             datetime            netrc               sre_constants\n",
      "_lzma               dateutil            networkx            sre_parse\n",
      "_markupbase         dbm                 nis                 ssl\n",
      "_md5                debugpy             nltk                stack_data\n",
      "_multibytecodec     decimal             nntplib             stat\n",
      "_multiprocess       decorator           notebook            statistics\n",
      "_multiprocessing    defusedxml          notebook_shim       statsmodels\n",
      "_opcode             diff_match_patch    ntpath              string\n",
      "_operator           difflib             nturl2path          stringprep\n",
      "_osx_support        dill                numba               struct\n",
      "_pickle             dis                 numbergen           subprocess\n",
      "_plotly_future_     distributed         numbers             sunau\n",
      "_plotly_utils       distutils           numexpr             sympy\n",
      "_posixshmem         docstring_to_markdown numpy               symtable\n",
      "_posixsubprocess    doctest             numpydoc            sys\n",
      "_py_abc             docutils            onedal              sysconfig\n",
      "_pydecimal          dotenv              opcode              syslog\n",
      "_pyio               email               openpyxl            tables\n",
      "_pyrsistent_version encodings           operator            tabnanny\n",
      "_pytest             ensurepip           optparse            tabulate\n",
      "_queue              entrypoints         os                  tarfile\n",
      "_random             enum                ossaudiodev         tbb\n",
      "_sha1               erfa                packaging           tblib\n",
      "_sha256             errno               pandas              telnetlib\n",
      "_sha3               et_xmlfile          pandocfilters       tempfile\n",
      "_sha512             executing           panel               tenacity\n",
      "_signal             fastjsonschema      param               terminado\n",
      "_sitebuiltins       faulthandler        parsel              termios\n",
      "_socket             fcntl               parso               test\n",
      "_sqlite3            filecmp             partd               test_pycosat\n",
      "_sre                fileinput           pathlib             text_unidecode\n",
      "_ssl                filelock            pathspec            textdistance\n",
      "_stat               flake8              patsy               textwrap\n",
      "_statistics         flask               pdb                 this\n",
      "_string             fnmatch             pep8                threading\n",
      "_strptime           fontTools           pexpect             threadpoolctl\n",
      "_struct             fractions           pickle              three_merge\n",
      "_symtable           frozenlist          pickleshare         tifffile\n",
      "_sysconfigdata__linux_x86_64-linux-gnu fsspec              pickletools         time\n",
      "_sysconfigdata_x86_64_conda_cos6_linux_gnu ftplib              pip                 timeit\n",
      "_sysconfigdata_x86_64_conda_linux_gnu functools           pipes               tinycss2\n",
      "_testbuffer         gc                  pkce                tkinter\n",
      "_testcapi           genericpath         pkg_resources       tldextract\n",
      "_testclinic         gensim              pkgutil             tlz\n",
      "_testimportmultiple getopt              platform            token\n",
      "_testinternalcapi   getpass             platformdirs        tokenize\n",
      "_testmultiphase     gettext             plistlib            tokenizers\n",
      "_thread             glob                plotly              toml\n",
      "_threading_local    gmpy2               pluggy              tomlkit\n",
      "_tkinter            graphlib            ply                 tomllib\n",
      "_tokenize           greenlet            poplib              toolz\n",
      "_tracemalloc        grp                 posix               tornado\n",
      "_typing             gzip                posixpath           tqdm\n",
      "_uuid               h5py                poyo                trace\n",
      "_warnings           hashlib             pprint              traceback\n",
      "_weakref            heapdict            profile             tracemalloc\n",
      "_weakrefset         heapq               prometheus_client   traitlets\n",
      "_xxsubinterpreters  hmac                prompt_toolkit      transformers\n",
      "_xxtestfuzz         holoviews           protego             truststore\n",
      "_yaml               html                pstats              tty\n",
      "_zoneinfo           http                psutil              turtle\n",
      "abc                 huggingface_hub     pty                 turtledemo\n",
      "aifc                hvplot              ptyprocess          twisted\n",
      "aiobotocore         hyperlink           pure_eval           types\n",
      "aiofiles            idlelib             pvectorc            typing\n",
      "aiohttp             idna                pwd                 typing_extensions\n",
      "aioitertools        imagecodecs         py                  tzdata\n",
      "aiosignal           imageio             py_compile          uc_micro\n",
      "aiosqlite           imagesize           pyarrow             ujson\n",
      "alabaster           imaplib             pyasn1              unicodedata\n",
      "anaconda_anon_usage imblearn            pyasn1_modules      unidecode\n",
      "anaconda_cloud_auth imghdr              pyclbr              unittest\n",
      "anaconda_navigator  imp                 pycodestyle         urllib\n",
      "antigravity         importlib           pycosat             urllib3\n",
      "anyio               importlib_metadata  pycparser           uu\n",
      "appdirs             incremental         pyct                uuid\n",
      "argon2              inflection          pycurl              venv\n",
      "argparse            iniconfig           pydantic            w3lib\n",
      "array               inspect             pydispatch          warnings\n",
      "arrow               intake              pydoc               watchdog\n",
      "ast                 intervaltree        pydoc_data          wave\n",
      "astroid             io                  pydocstyle          wcwidth\n",
      "astropy             ipaddress           pyexpat             weakref\n",
      "asttokens           ipykernel           pyflakes            webbrowser\n",
      "async_timeout       ipykernel_launcher  pygments            webencodings\n",
      "asynchat            ipython_genutils    pylab               websocket\n",
      "asyncio             ipywidgets          pylint              werkzeug\n",
      "asyncore            isort               pylint_venv         whatthepatch\n",
      "atexit              isympy              pyls_spyder         wheel\n",
      "atomicwrites        itemadapter         pylsp               widgetsnbextension\n",
      "attr                itemloaders         pylsp_black         wrapt\n",
      "attrs               itertools           pylsp_jsonrpc       wsgiref\n",
      "audioop             itsdangerous        pyodbc              wurlitzer\n",
      "automat             jedi                pyparsing           xarray\n",
      "autopep8            jeepney             pyrsistent          xdg\n",
      "babel               jellyfish           pytest              xdrlib\n",
      "backcall            jinja2              pythonjsonlogger    xml\n",
      "base64              jinja2_time         pytoolconfig        xmlrpc\n",
      "bcrypt              jmespath            pytz                xxhash\n",
      "bdb                 joblib              pyviz_comms         xxlimited\n",
      "binaryornot         json                pywt                xxlimited_35\n",
      "binascii            json5               qdarkstyle          xxsubtype\n",
      "binstar_client      jsonpatch           qstylizer           xyzservices\n",
      "bisect              jsonpointer         qtawesome           y_py\n",
      "black               jsonschema          qtconsole           yaml\n",
      "blackd              jupyter             qtpy                yapf\n",
      "bleach              jupyter_client      queue               yapftests\n",
      "blib2to3            jupyter_console     queuelib            yarl\n",
      "bokeh               jupyter_core        quopri              ypy_websocket\n",
      "boltons             jupyter_events      random              zict\n",
      "botocore            jupyter_server      re                  zipapp\n",
      "bottleneck          jupyter_server_fileid readline            zipfile\n",
      "brotli              jupyter_server_ydoc regex               zipimport\n",
      "bs4                 jupyter_ydoc        repo_cli            zipp\n",
      "builtins            jupyterlab          reprlib             zlib\n",
      "bz2                 jupyterlab_plotly   requests            zmq\n",
      "cProfile            jupyterlab_pygments requests_file       zoneinfo\n",
      "calendar            jupyterlab_server   requests_toolbelt   zope\n",
      "certifi             jupyterlab_widgets  resource            zstandard\n",
      "cffi                jwt                 responses           \n",
      "cgi                 kaleido             rfc3339_validator   \n",
      "cgitb               keyring             rfc3986_validator   \n",
      "\n",
      "Enter any module name to get more help.  Or, type \"modules spam\" to search\n",
      "for modules whose name or summary contain the string \"spam\".\n",
      "\n",
      "None\n"
     ]
    },
    {
     "name": "stderr",
     "output_type": "stream",
     "text": [
      "/home/pietromalagoli/anaconda3/envs/labcompute/lib/python3.11/pkgutil.py:107: VisibleDeprecationWarning:\n",
      "\n",
      "zmq.eventloop.minitornado is deprecated in pyzmq 14.0 and will be removed.\n",
      "    Install tornado itself to use zmq with the tornado IOLoop.\n",
      "    \n",
      "\n"
     ]
    }
   ],
   "source": [
    "print (help('modules') )\n"
   ]
  },
  {
   "cell_type": "markdown",
   "metadata": {},
   "source": [
    "`pip` is a special package. It is used from the command line to install properly (e.g. matching the version of the local packages) new packages. It can also be used from within python to check i.e. the set installed packages and their versions. N.B.: only the installed packages on top of the default ones will be listed "
   ]
  },
  {
   "cell_type": "code",
   "execution_count": 3,
   "metadata": {},
   "outputs": [
    {
     "name": "stdout",
     "output_type": "stream",
     "text": [
      "['aiobotocore==2.5.0', 'aiofiles==22.1.0', 'aiohttp==3.8.5', 'aioitertools==0.7.1', 'aiosignal==1.2.0', 'aiosqlite==0.18.0', 'alabaster==0.7.12', 'anaconda-anon-usage==0.4.3', 'anaconda-client==1.12.1', 'anaconda-cloud-auth==0.1.3', 'anaconda-navigator==2.5.0', 'anyio==3.5.0', 'appdirs==1.4.4', 'argon2-cffi-bindings==21.2.0', 'argon2-cffi==21.3.0', 'arrow==1.2.3', 'astroid==2.14.2', 'astropy==5.1', 'asttokens==2.0.5', 'async-timeout==4.0.2', 'atomicwrites==1.4.0', 'attrs==23.1.0', 'automat==20.2.0', 'autopep8==1.6.0', 'babel==2.11.0', 'backcall==0.2.0', 'bcrypt==3.2.0', 'beautifulsoup4==4.12.2', 'binaryornot==0.4.4', 'black==0.0', 'bleach==4.1.0', 'bokeh==3.2.1', 'boltons==23.0.0', 'botocore==1.29.76', 'bottleneck==1.3.5', 'brotlipy==0.7.0', 'certifi==2023.7.22', 'cffi==1.15.1', 'chardet==4.0.0', 'charset-normalizer==2.0.4', 'click==8.0.4', 'cloudpickle==2.2.1', 'clyent==1.2.2', 'colorama==0.4.6', 'colorcet==3.0.1', 'comm==0.1.2', 'conda-content-trust==0.2.0', 'conda-package-handling==2.2.0', 'conda-package-streaming==0.9.0', 'conda-repo-cli==1.0.75', 'conda-token==0.4.0', 'conda==23.9.0', 'constantly==15.1.0', 'contourpy==1.0.5', 'cookiecutter==1.7.3', 'cryptography==41.0.3', 'cssselect==1.1.0', 'cycler==0.11.0', 'cytoolz==0.12.0', 'daal4py==2023.1.1', 'dask==2023.6.0', 'datasets==2.12.0', 'datashader==0.15.2', 'datashape==0.5.4', 'debugpy==1.6.7', 'decorator==5.1.1', 'defusedxml==0.7.1', 'diff-match-patch==20200713', 'dill==0.3.6', 'distributed==2023.6.0', 'docstring-to-markdown==0.11', 'docutils==0.18.1', 'entrypoints==0.4', 'et-xmlfile==1.1.0', 'executing==0.8.3', 'fastjsonschema==2.16.2', 'filelock==3.9.0', 'flake8==6.0.0', 'flask==2.2.2', 'fonttools==4.25.0', 'frozenlist==1.3.3', 'fsspec==2023.4.0', 'gensim==4.3.0', 'gmpy2==2.1.2', 'greenlet==2.0.1', 'h5py==3.9.0', 'heapdict==1.0.1', 'holoviews==1.17.1', 'huggingface-hub==0.17.3', 'hvplot==0.8.4', 'hyperlink==21.0.0', 'idna==3.4', 'imagecodecs==2023.1.23', 'imageio==2.31.4', 'imagesize==1.4.1', 'imbalanced-learn==0.10.1', 'importlib-metadata==6.0.0', 'incremental==21.3.0', 'inflection==0.5.1', 'iniconfig==1.1.1', 'intake==0.6.8', 'intervaltree==3.1.0', 'ipykernel==6.25.0', 'ipython-genutils==0.2.0', 'ipython==8.15.0', 'ipywidgets==8.0.4', 'isort==5.9.3', 'itemadapter==0.3.0', 'itemloaders==1.0.4', 'itsdangerous==2.0.1', 'jaraco.classes==3.2.1', 'jedi==0.18.1', 'jeepney==0.7.1', 'jellyfish==1.0.1', 'jinja2-time==0.2.0', 'jinja2==3.1.2', 'jmespath==0.10.0', 'joblib==1.2.0', 'json5==0.9.6', 'jsonpatch==1.32', 'jsonpointer==2.1', 'jsonschema==4.17.3', 'jupyter-client==7.4.9', 'jupyter-console==6.6.3', 'jupyter-core==5.3.0', 'jupyter-events==0.6.3', 'jupyter-server-fileid==0.9.0', 'jupyter-server-ydoc==0.8.0', 'jupyter-server==1.23.4', 'jupyter-ydoc==0.2.4', 'jupyter==1.0.0', 'jupyterlab-pygments==0.1.2', 'jupyterlab-server==2.22.0', 'jupyterlab-widgets==3.0.5', 'jupyterlab==3.6.3', 'kaleido==0.2.1', 'keyring==23.13.1', 'kiwisolver==1.4.4', 'lazy-loader==0.2', 'lazy-object-proxy==1.6.0', 'linkify-it-py==2.0.0', 'llvmlite==0.41.0', 'lmdb==1.4.1', 'locket==1.0.0', 'lxml==4.9.3', 'lz4==4.3.2', 'markdown-it-py==2.2.0', 'markdown==3.4.1', 'markupsafe==2.1.1', 'matplotlib-inline==0.1.6', 'matplotlib==3.7.2', 'mccabe==0.7.0', 'mdit-py-plugins==0.3.0', 'mdurl==0.1.0', 'mistune==0.8.4', 'mkl-fft==1.3.8', 'mkl-random==1.2.4', 'mkl-service==2.4.0', 'more-itertools==8.12.0', 'mpmath==1.3.0', 'msgpack==1.0.3', 'multidict==6.0.2', 'multipledispatch==0.6.0', 'multiprocess==0.70.14', 'munkres==1.1.4', 'mypy-extensions==1.0.0', 'navigator-updater==0.4.0', 'nbclassic==0.5.5', 'nbclient==0.5.13', 'nbconvert==6.5.4', 'nbformat==5.9.2', 'nest-asyncio==1.5.6', 'networkx==3.1', 'nltk==3.8.1', 'notebook-shim==0.2.2', 'notebook==6.5.4', 'numba==0.58.0', 'numexpr==2.8.7', 'numpy==1.24.3', 'numpydoc==1.5.0', 'openpyxl==3.0.10', 'packaging==23.1', 'pandas==2.0.3', 'pandocfilters==1.5.0', 'panel==1.2.3', 'param==1.13.0', 'parsel==1.6.0', 'parso==0.8.3', 'partd==1.4.0', 'pathlib==1.0.1', 'pathspec==0.10.3', 'patsy==0.5.3', 'pep8==1.7.1', 'pexpect==4.8.0', 'pickleshare==0.7.5', 'pillow==10.0.1', 'pip==23.2.1', 'pkce==1.0.3', 'platformdirs==3.10.0', 'plotly==5.9.0', 'pluggy==1.0.0', 'ply==3.11', 'poyo==0.5.0', 'prometheus-client==0.14.1', 'prompt-toolkit==3.0.36', 'protego==0.1.16', 'psutil==5.9.0', 'ptyprocess==0.7.0', 'pure-eval==0.2.2', 'py-cpuinfo==8.0.0', 'pyarrow==11.0.0', 'pyasn1-modules==0.2.8', 'pyasn1==0.4.8', 'pycodestyle==2.10.0', 'pycosat==0.6.6', 'pycparser==2.21', 'pyct==0.5.0', 'pycurl==7.45.2', 'pydantic==1.10.12', 'pydispatcher==2.0.5', 'pydocstyle==6.3.0', 'pyerfa==2.0.0', 'pyflakes==3.0.1', 'pygments==2.15.1', 'pyjwt==2.4.0', 'pylint-venv==2.3.0', 'pylint==2.16.2', 'pyls-spyder==0.4.0', 'pyodbc==4.0.39', 'pyopenssl==23.2.0', 'pyparsing==3.0.9', 'pyqt5-sip==12.11.0', 'pyrsistent==0.18.0', 'pysocks==1.7.1', 'pytest==7.4.0', 'python-dateutil==2.8.2', 'python-dotenv==0.21.0', 'python-json-logger==2.0.7', 'python-lsp-black==1.2.1', 'python-lsp-jsonrpc==1.0.0', 'python-lsp-server==1.7.2', 'python-slugify==5.0.2', 'python-snappy==0.6.1', 'pytoolconfig==1.2.5', 'pytz==2023.3.post1', 'pyviz-comms==2.3.0', 'pywavelets==1.4.1', 'pyxdg==0.27', 'pyyaml==6.0', 'pyzmq==23.2.0', 'qdarkstyle==3.0.2', 'qstylizer==0.2.2', 'qtawesome==1.2.2', 'qtconsole==5.4.2', 'qtpy==2.2.0', 'queuelib==1.5.0', 'regex==2023.10.3', 'requests-file==1.5.1', 'requests-toolbelt==1.0.0', 'requests==2.31.0', 'responses==0.13.3', 'rfc3339-validator==0.1.4', 'rfc3986-validator==0.1.1', 'rope==1.7.0', 'rtree==1.0.1', 'ruamel.yaml==0.17.21', 's3fs==2023.4.0', 'safetensors==0.3.2', 'scikit-image==0.20.0', 'scikit-learn-intelex==20230426.111612', 'scikit-learn==1.3.0', 'scipy==1.11.3', 'scrapy==2.8.0', 'seaborn==0.12.2', 'secretstorage==3.3.1', 'send2trash==1.8.0', 'service-identity==18.1.0', 'setuptools==68.0.0', 'sip==6.6.2', 'six==1.16.0', 'smart-open==5.2.1', 'sniffio==1.2.0', 'snowballstemmer==2.2.0', 'sortedcontainers==2.4.0', 'soupsieve==2.5', 'sphinx==5.0.2', 'sphinxcontrib-applehelp==1.0.2', 'sphinxcontrib-devhelp==1.0.2', 'sphinxcontrib-htmlhelp==2.0.0', 'sphinxcontrib-jsmath==1.0.1', 'sphinxcontrib-qthelp==1.0.3', 'sphinxcontrib-serializinghtml==1.1.5', 'spyder-kernels==2.4.4', 'spyder==5.4.3', 'sqlalchemy==2.0.21', 'stack-data==0.2.0', 'statsmodels==0.14.0', 'sympy==1.11.1', 'tables==3.8.0', 'tabulate==0.8.10', 'tbb==0.2', 'tblib==1.7.0', 'tenacity==8.2.2', 'terminado==0.17.1', 'text-unidecode==1.3', 'textdistance==4.2.1', 'threadpoolctl==2.2.0', 'three-merge==0.1.1', 'tifffile==2023.4.12', 'tinycss2==1.2.1', 'tldextract==3.2.0', 'tokenizers==0.13.3', 'toml==0.10.2', 'tomlkit==0.11.1', 'toolz==0.12.0', 'tornado==6.3.3', 'tqdm==4.65.0', 'traitlets==5.7.1', 'transformers==4.32.1', 'truststore==0.8.0', 'twisted==22.10.0', 'typing-extensions==4.7.1', 'tzdata==2023.3', 'uc-micro-py==1.0.1', 'ujson==5.4.0', 'unidecode==1.2.0', 'urllib3==1.26.16', 'w3lib==1.21.0', 'watchdog==2.1.6', 'wcwidth==0.2.5', 'webencodings==0.5.1', 'websocket-client==0.58.0', 'werkzeug==2.2.3', 'whatthepatch==1.0.2', 'wheel==0.41.2', 'widgetsnbextension==4.0.5', 'wrapt==1.14.1', 'wurlitzer==3.0.2', 'xarray==2023.6.0', 'xxhash==2.0.2', 'xyzservices==2022.9.0', 'y-py==0.5.9', 'yapf==0.31.0', 'yarl==1.8.1', 'ypy-websocket==0.8.2', 'zict==3.0.0', 'zipp==3.11.0', 'zope.interface==5.4.0', 'zstandard==0.19.0']\n"
     ]
    }
   ],
   "source": [
    "try:\n",
    "    # this doesn't work anymore\n",
    "    import pip\n",
    "    sorted([\"%s==%s\" % (i.key, i.version) for i in pip._internal.utils.misc.get_installed_distributions()])\n",
    "\n",
    "except:\n",
    "    # use this instead\n",
    "    import pkg_resources\n",
    "    installed_packages = pkg_resources.working_set\n",
    "    installed_packages_list = sorted([\"%s==%s\" % (i.key, i.version)\n",
    "       for i in installed_packages])\n",
    "    print(installed_packages_list)\n"
   ]
  },
  {
   "cell_type": "markdown",
   "metadata": {},
   "source": [
    "# Functions"
   ]
  },
  {
   "cell_type": "code",
   "execution_count": 4,
   "metadata": {},
   "outputs": [
    {
     "name": "stdout",
     "output_type": "stream",
     "text": [
      "9\n",
      "27\n",
      "cube 27\n",
      "square 9\n"
     ]
    }
   ],
   "source": [
    "def square(x):\n",
    "    \"\"\"Square of x.\"\"\"\n",
    "    return x*x\n",
    "\n",
    "def cube(x):\n",
    "    \"\"\"Cube of x.\"\"\"\n",
    "    return x*x*x\n",
    "\n",
    "# create a dictionary of functions\n",
    "funcs = {\n",
    "    'square': square,\n",
    "    'cube': cube,\n",
    "}\n",
    "\n",
    "x = 3\n",
    "print(square(x))\n",
    "print(cube(x))\n",
    "\n",
    "for func in sorted(funcs):\n",
    "    print (func, funcs[func](x))"
   ]
  },
  {
   "cell_type": "markdown",
   "metadata": {},
   "source": [
    "## Functions arguments"
   ]
  },
  {
   "cell_type": "markdown",
   "metadata": {},
   "source": [
    "What is passsed to a function is a copy of the input. Imagine we have a list *x =[1, 2, 3]*, i.e. a mutable object. If within the function the content of *x* is directly changed (e.g. *x[0] = 999*), then *x* changes outside the funciton as well. "
   ]
  },
  {
   "cell_type": "code",
   "execution_count": 5,
   "metadata": {},
   "outputs": [
    {
     "name": "stdout",
     "output_type": "stream",
     "text": [
      "[1, 2, 3]\n",
      "[999, 2, 3]\n",
      "[999, 2, 3]\n"
     ]
    }
   ],
   "source": [
    "def modify(x):\n",
    "    x[0] = 999\n",
    "    return x\n",
    "\n",
    "x = [1,2,3]\n",
    "print (x)\n",
    "print (modify(x))\n",
    "print (x)"
   ]
  },
  {
   "cell_type": "markdown",
   "metadata": {},
   "source": [
    "However, if *x* is reassigned within the function to a new object (e.g. another list), then the copy of the name *x* now points to the new object, but *x* outside the function is unhcanged."
   ]
  },
  {
   "cell_type": "code",
   "execution_count": 6,
   "metadata": {},
   "outputs": [
    {
     "name": "stdout",
     "output_type": "stream",
     "text": [
      "[1, 2, 3]\n",
      "[4, 5, 6]\n",
      "[1, 2, 3]\n"
     ]
    }
   ],
   "source": [
    "def no_modify(x):\n",
    "    x = [4,5,6]\n",
    "    return x\n",
    "\n",
    "x = [1,2,3]\n",
    "print (x)\n",
    "print (no_modify(x))\n",
    "print (x)\n"
   ]
  },
  {
   "cell_type": "markdown",
   "metadata": {},
   "source": [
    "What if the function tries to modify the value of an immutable object?"
   ]
  },
  {
   "cell_type": "markdown",
   "metadata": {},
   "source": [
    "Binding of default arguments occurs at function definition:"
   ]
  },
  {
   "cell_type": "code",
   "execution_count": 7,
   "metadata": {},
   "outputs": [
    {
     "name": "stdout",
     "output_type": "stream",
     "text": [
      "[1]\n",
      "[1, 1]\n",
      "[9, 9, 9, 1]\n",
      "[1, 1, 1]\n",
      "[1, 1, 1, 1]\n"
     ]
    }
   ],
   "source": [
    "def f(x = []):\n",
    "    x.append(1)\n",
    "    return x\n",
    "\n",
    "print (f())\n",
    "print (f())\n",
    "print (f(x = [9,9,9]))\n",
    "print (f())\n",
    "print (f())"
   ]
  },
  {
   "cell_type": "markdown",
   "metadata": {},
   "source": [
    "Try to aviod that!!"
   ]
  },
  {
   "cell_type": "code",
   "execution_count": 8,
   "metadata": {},
   "outputs": [
    {
     "name": "stdout",
     "output_type": "stream",
     "text": [
      "[1]\n",
      "[1]\n",
      "[9, 9, 9, 1]\n",
      "[1]\n",
      "[1]\n"
     ]
    }
   ],
   "source": [
    "def f(x = None):\n",
    "    if x is None:\n",
    "        x = []\n",
    "    x.append(1)\n",
    "    return x\n",
    "\n",
    "print (f())\n",
    "print (f())\n",
    "print (f(x = [9,9,9]))\n",
    "print (f())\n",
    "print (f())"
   ]
  },
  {
   "cell_type": "markdown",
   "metadata": {},
   "source": [
    "## Higher order functions\n",
    "\n",
    "A function that uses another function as an input argument or returns a function is known as a higher-order function (HOF). The most familiar examples are `map` and `filter`."
   ]
  },
  {
   "cell_type": "markdown",
   "metadata": {},
   "source": [
    "### map\n",
    "\n",
    "The map function applies a function to each member of a collection"
   ]
  },
  {
   "cell_type": "code",
   "execution_count": 9,
   "metadata": {},
   "outputs": [
    {
     "name": "stdout",
     "output_type": "stream",
     "text": [
      "[0, 1, 4, 9, 16]\n",
      "0\n",
      "1\n",
      "4\n",
      "9\n",
      "16\n"
     ]
    },
    {
     "data": {
      "text/plain": [
       "[0, 1, 4, 9, 16, 25]"
      ]
     },
     "execution_count": 9,
     "metadata": {},
     "output_type": "execute_result"
    }
   ],
   "source": [
    "x = list(map(square, range(5))) \n",
    "print (x)\n",
    "\n",
    "# Note the difference w.r.t python 2. In python 3 map retuns an iterator so you can do stuff like:\n",
    "for i in map(square,range(5)): print(i)\n",
    "\n",
    "# or\n",
    "[i for i in map(square,range(6))]"
   ]
  },
  {
   "cell_type": "markdown",
   "metadata": {},
   "source": [
    "### filter\n",
    "\n",
    "The filter function applies a predicate to each member of a collection, retaining only those members where the predicate is True"
   ]
  },
  {
   "cell_type": "code",
   "execution_count": 10,
   "metadata": {},
   "outputs": [
    {
     "name": "stdout",
     "output_type": "stream",
     "text": [
      "[0, 2, 4]\n"
     ]
    }
   ],
   "source": [
    "def is_even(x):\n",
    "    return x%2 == 0\n",
    "\n",
    "print (list(filter(is_even, range(5))))"
   ]
  },
  {
   "cell_type": "markdown",
   "metadata": {},
   "source": [
    "Combinations in sequence of HOF are obviously possible"
   ]
  },
  {
   "cell_type": "code",
   "execution_count": 11,
   "metadata": {},
   "outputs": [
    {
     "data": {
      "text/plain": [
       "[0, 4, 16]"
      ]
     },
     "execution_count": 11,
     "metadata": {},
     "output_type": "execute_result"
    }
   ],
   "source": [
    "list(map(square, filter(is_even, range(5))))"
   ]
  },
  {
   "cell_type": "markdown",
   "metadata": {},
   "source": [
    "### reduce\n",
    "\n",
    "The reduce function reduces a collection using a binary operator to combine items two at a time. More often than not reduce can be substituted with a more efficient for loop. It is worth mentioning it for its key role in big-data applications together with map (the map-reduce paradigm). \n",
    "N.B.: it no loger exist as built-in function in python 3, it is now part of the `functools` library"
   ]
  },
  {
   "cell_type": "code",
   "execution_count": 12,
   "metadata": {},
   "outputs": [
    {
     "data": {
      "text/plain": [
       "15"
      ]
     },
     "execution_count": 12,
     "metadata": {},
     "output_type": "execute_result"
    }
   ],
   "source": [
    "from functools import reduce\n",
    "\n",
    "def my_add(x, y):\n",
    "    return x + y\n",
    "\n",
    "# another implementation of the sum function\n",
    "reduce(my_add, [1,2,3,4,5])"
   ]
  },
  {
   "cell_type": "markdown",
   "metadata": {},
   "source": [
    "### zip\n",
    "\n",
    "zip is useful when you need to iterate over matched elements of multiple lists"
   ]
  },
  {
   "cell_type": "code",
   "execution_count": 13,
   "metadata": {},
   "outputs": [
    {
     "name": "stdout",
     "output_type": "stream",
     "text": [
      "1 10 a\n",
      "2 20 b\n",
      "3 30 c\n"
     ]
    }
   ],
   "source": [
    "xs = [1, 2, 3, 4]\n",
    "ys = [10, 20, 30, 40]\n",
    "zs = ['a', 'b', 'c',]\n",
    "\n",
    "for x, y, z in zip(xs, ys, zs):\n",
    "    print (x, y, z)"
   ]
  },
  {
   "cell_type": "markdown",
   "metadata": {},
   "source": [
    "### Custom HOF"
   ]
  },
  {
   "cell_type": "code",
   "execution_count": 14,
   "metadata": {},
   "outputs": [
    {
     "name": "stdout",
     "output_type": "stream",
     "text": [
      "30\n",
      "100\n"
     ]
    }
   ],
   "source": [
    "def custom_sum(xs, transform):\n",
    "    \"\"\"Returns the sum of xs after a user specified transform.\"\"\"\n",
    "    return sum(map(transform, xs))\n",
    "\n",
    "xs = range(5)\n",
    "print (custom_sum(xs, square))\n",
    "print (custom_sum(xs, cube))\n",
    "\n"
   ]
  },
  {
   "cell_type": "markdown",
   "metadata": {},
   "source": [
    "### Returning a function"
   ]
  },
  {
   "cell_type": "code",
   "execution_count": 15,
   "metadata": {},
   "outputs": [],
   "source": [
    "def make_logger(target):\n",
    "    def logger(data):\n",
    "        with open(target, 'a') as f:\n",
    "            f.write(data + '\\n')\n",
    "    return logger\n",
    "\n",
    "foo_logger = make_logger('foo.txt') #foo.txt will be created if not there already\n",
    "foo_logger('Hello')\n",
    "foo_logger('World')"
   ]
  },
  {
   "cell_type": "code",
   "execution_count": 16,
   "metadata": {},
   "outputs": [
    {
     "name": "stdout",
     "output_type": "stream",
     "text": [
      "Hello\n",
      "World\n"
     ]
    }
   ],
   "source": [
    "! cat 'foo.txt'"
   ]
  },
  {
   "cell_type": "markdown",
   "metadata": {},
   "source": [
    "## Anonimous functions (lambda)\n",
    "\n",
    "When using functional style, there is often the need to create specific functions that perform a limited task as input to a HOF such as map or filter. In such cases, these functions are often written as anonymous or lambda functions. \n",
    "The syntax is as follows:\n",
    "\n",
    "lambda *arguments* : *expression*\n",
    "\n",
    "\n",
    "If you find it hard to understand what a lambda function is doing, it should probably be rewritten as a regular function."
   ]
  },
  {
   "cell_type": "code",
   "execution_count": 17,
   "metadata": {},
   "outputs": [
    {
     "data": {
      "text/plain": [
       "7"
      ]
     },
     "execution_count": 17,
     "metadata": {},
     "output_type": "execute_result"
    }
   ],
   "source": [
    "suml = lambda x,y: x+y\n",
    "suml(3,4)"
   ]
  },
  {
   "cell_type": "code",
   "execution_count": 18,
   "metadata": {},
   "outputs": [
    {
     "data": {
      "text/plain": [
       "7"
      ]
     },
     "execution_count": 18,
     "metadata": {},
     "output_type": "execute_result"
    }
   ],
   "source": [
    "(lambda x,y: x+y)(3,4)"
   ]
  },
  {
   "cell_type": "code",
   "execution_count": 19,
   "metadata": {},
   "outputs": [
    {
     "name": "stdout",
     "output_type": "stream",
     "text": [
      "0\n",
      "1\n",
      "4\n",
      "9\n",
      "16\n"
     ]
    }
   ],
   "source": [
    "for i in map(lambda x: x*x, range(5)): print (i)"
   ]
  },
  {
   "cell_type": "code",
   "execution_count": 20,
   "metadata": {},
   "outputs": [
    {
     "name": "stdout",
     "output_type": "stream",
     "text": [
      "285\n"
     ]
    }
   ],
   "source": [
    "# what does this function do?\n",
    "from functools import reduce\n",
    "s1 = reduce(lambda x, y: x+y, map(lambda x: x**2, range(1,10)))\n",
    "print(s1)\n"
   ]
  },
  {
   "cell_type": "markdown",
   "metadata": {},
   "source": [
    "## Recursive functions "
   ]
  },
  {
   "cell_type": "code",
   "execution_count": 21,
   "metadata": {},
   "outputs": [
    {
     "name": "stdout",
     "output_type": "stream",
     "text": [
      "[1, 1, 2, 3, 5, 8, 13, 21, 34, 55]\n"
     ]
    }
   ],
   "source": [
    "def fib1(n):\n",
    "    \"\"\"Fib with recursion.\"\"\"\n",
    "\n",
    "    # base case\n",
    "    if n==0 or n==1:\n",
    "        return 1\n",
    "    # recursive case\n",
    "    else:\n",
    "        return fib1(n-1) + fib1(n-2)\n",
    "\n",
    "    \n",
    "print ([fib1(i) for i in range(10)])"
   ]
  },
  {
   "cell_type": "code",
   "execution_count": 22,
   "metadata": {},
   "outputs": [
    {
     "name": "stdout",
     "output_type": "stream",
     "text": [
      "[1, 1, 2, 3, 5, 8, 13, 21, 34, 55]\n"
     ]
    }
   ],
   "source": [
    "# In Python, a more efficient version that does not use recursion is\n",
    "\n",
    "def fib2(n):\n",
    "    \"\"\"Fib without recursion.\"\"\"\n",
    "    a, b = 0, 1\n",
    "    for i in range(1, n+1):\n",
    "        a, b = b, a+b\n",
    "    return b\n",
    "\n",
    "print ([fib2(i) for i in range(10)])"
   ]
  },
  {
   "cell_type": "code",
   "execution_count": 23,
   "metadata": {},
   "outputs": [
    {
     "name": "stdout",
     "output_type": "stream",
     "text": [
      "891 µs ± 28.4 µs per loop (mean ± std. dev. of 7 runs, 1,000 loops each)\n",
      "555 ns ± 7.68 ns per loop (mean ± std. dev. of 7 runs, 1,000,000 loops each)\n"
     ]
    }
   ],
   "source": [
    "# check indeed the timing:\n",
    "\n",
    "%timeit fib1(20)\n",
    "%timeit fib2(20)\n"
   ]
  },
  {
   "cell_type": "markdown",
   "metadata": {},
   "source": [
    "## Iterators\n",
    "\n",
    "Iterators represent streams of values. Because only one value is consumed at a time, they use very little memory. Use of iterators is very helpful for working with data sets too large to fit into RAM."
   ]
  },
  {
   "cell_type": "code",
   "execution_count": 24,
   "metadata": {},
   "outputs": [
    {
     "name": "stdout",
     "output_type": "stream",
     "text": [
      "1\n",
      "2\n",
      "3\n"
     ]
    },
    {
     "ename": "StopIteration",
     "evalue": "",
     "output_type": "error",
     "traceback": [
      "\u001b[0;31m---------------------------------------------------------------------------\u001b[0m",
      "\u001b[0;31mStopIteration\u001b[0m                             Traceback (most recent call last)",
      "Cell \u001b[0;32mIn[24], line 9\u001b[0m\n\u001b[1;32m      7\u001b[0m \u001b[38;5;28mprint\u001b[39m (\u001b[38;5;28mnext\u001b[39m(x_iter))\n\u001b[1;32m      8\u001b[0m \u001b[38;5;28mprint\u001b[39m (\u001b[38;5;28mnext\u001b[39m(x_iter))\n\u001b[0;32m----> 9\u001b[0m \u001b[38;5;28mprint\u001b[39m (\u001b[38;5;28mnext\u001b[39m(x_iter))\n",
      "\u001b[0;31mStopIteration\u001b[0m: "
     ]
    }
   ],
   "source": [
    "# Iterators can be created from sequences with the built-in function iter()\n",
    "\n",
    "xs = [1,2,3]\n",
    "x_iter = iter(xs)\n",
    "\n",
    "print (next(x_iter))\n",
    "print (next(x_iter))\n",
    "print (next(x_iter))\n",
    "print (next(x_iter))"
   ]
  },
  {
   "cell_type": "code",
   "execution_count": null,
   "metadata": {},
   "outputs": [],
   "source": [
    "# Most commonly, iterators are used (automatically) within a for loop\n",
    "# which terminates when it encouters a StopIteration exception\n",
    "\n",
    "x_iter = iter(xs)\n",
    "for x in x_iter:\n",
    "    print (x)"
   ]
  },
  {
   "cell_type": "markdown",
   "metadata": {},
   "source": [
    "## More on comprehensions"
   ]
  },
  {
   "cell_type": "code",
   "execution_count": null,
   "metadata": {},
   "outputs": [],
   "source": [
    "# A generator expression\n",
    "\n",
    "print ((x for x in range(10)))\n",
    "\n",
    "# A list comprehesnnion\n",
    "\n",
    "print ([x**2 for x in range(10)])\n",
    "\n",
    "# A set comprehension\n",
    "\n",
    "print ({x for x in range(10)})\n",
    "\n",
    "# A dictionary comprehension\n",
    "\n",
    "print ({x: \"x\" for x in range(10)})"
   ]
  },
  {
   "cell_type": "markdown",
   "metadata": {},
   "source": [
    "## Useful Modules\n",
    "\n",
    "You may want to have a look at the content of the following modules for further usage of (HO) functions:\n",
    "  - [operator](https://docs.python.org/3/library/operator.html)\n",
    "  - [functools](https://docs.python.org/3/library/functools.html)\n",
    "  - [itertools](https://docs.python.org/3/library/itertools.html)\n",
    "  - [toolz](https://pypi.org/project/toolz/)\n",
    "  - [funcy](https://pypi.org/project/funcy/)"
   ]
  },
  {
   "cell_type": "markdown",
   "metadata": {},
   "source": [
    "## Decorators\n",
    "\n",
    "Decorators are a type of HOF that take a function and return a wrapped function that provides additional useful properties.\n",
    "\n",
    "Examples:\n",
    "\n",
    "  - logging\n",
    "  - profiling\n",
    "  - Just-In-Time (JIT) compilation"
   ]
  },
  {
   "cell_type": "code",
   "execution_count": 25,
   "metadata": {},
   "outputs": [],
   "source": [
    "def my_decorator(func):\n",
    "    def wrapper():\n",
    "        print(\"Something is happening before the function is called.\")\n",
    "        func()\n",
    "        print(\"Something is happening after the function is called.\")\n",
    "    return wrapper\n",
    "\n",
    "def say_whee():\n",
    "    print(\"Whee!\")\n",
    "\n",
    "say_whee = my_decorator(say_whee)"
   ]
  },
  {
   "cell_type": "code",
   "execution_count": 26,
   "metadata": {},
   "outputs": [
    {
     "name": "stdout",
     "output_type": "stream",
     "text": [
      "Something is happening before the function is called.\n",
      "Whee!\n",
      "Something is happening after the function is called.\n"
     ]
    }
   ],
   "source": [
    "say_whee()"
   ]
  },
  {
   "cell_type": "markdown",
   "metadata": {},
   "source": [
    "Python allows you to use decorators in a simpler way with the @ symbol, sometimes called the “pie” syntax"
   ]
  },
  {
   "cell_type": "code",
   "execution_count": 27,
   "metadata": {},
   "outputs": [],
   "source": [
    "def my_decorator(func):\n",
    "    def wrapper():\n",
    "        print(\"Something is happening before the function is called.\")\n",
    "        func()\n",
    "        print(\"Something is happening after the function is called.\")\n",
    "    return wrapper\n",
    "\n",
    "@my_decorator\n",
    "def say_whee():\n",
    "    print(\"Whee!\")"
   ]
  },
  {
   "cell_type": "code",
   "execution_count": 28,
   "metadata": {},
   "outputs": [
    {
     "name": "stdout",
     "output_type": "stream",
     "text": [
      "Something is happening before the function is called.\n",
      "Whee!\n",
      "Something is happening after the function is called.\n"
     ]
    }
   ],
   "source": [
    "say_whee()"
   ]
  },
  {
   "cell_type": "markdown",
   "metadata": {},
   "source": [
    "# Classes and Objects\n",
    "\n",
    "Old school object-oriented programming is possible and often used in python. Classes are defined similarly to standard object-oriented languages, with similar functionalities.\n",
    "\n",
    "The main python doc [page](https://docs.python.org/3/tutorial/classes.html) is worth reading through "
   ]
  },
  {
   "cell_type": "code",
   "execution_count": null,
   "metadata": {},
   "outputs": [],
   "source": [
    "class Pet:\n",
    "    # the \"constructor\"\n",
    "    def __init__(self, name, age):  #inizialize the elements of the class\n",
    "        self.name=name\n",
    "        self.age=age\n",
    "    # class functions take the \"self\" parameter !!!\n",
    "    def set_name(self,name):\n",
    "        self.name=name\n",
    "    def convert_age(self,factor):\n",
    "        self.age*=factor\n",
    "\n",
    "buddy=Pet(\"buddy\",12)\n",
    "print (buddy.name, buddy.age)\n",
    "buddy.age=3\n",
    "print (buddy.age)\n",
    "\n"
   ]
  },
  {
   "cell_type": "code",
   "execution_count": null,
   "metadata": {},
   "outputs": [],
   "source": [
    "# ineritance is straightforward\n",
    "class Dog(Pet):\n",
    "    # the following variables is \"global\", i.e. holds for all \"Dog\" objects\n",
    "    species = \"mammal\"\n",
    "    # functions can be redefined as usual\n",
    "    def convert_age(self):\n",
    "        self.age*=7\n",
    "    def set_species(self, species):\n",
    "        self.species = species\n",
    "        \n",
    "puppy=Dog(\"tobia\",10)\n",
    "print(puppy.name)\n",
    "puppy.convert_age()\n",
    "print(puppy.age)\n",
    "\n"
   ]
  }
 ],
 "metadata": {
  "kernelspec": {
   "display_name": "Python 3 (ipykernel)",
   "language": "python",
   "name": "python3"
  },
  "language_info": {
   "codemirror_mode": {
    "name": "ipython",
    "version": 3
   },
   "file_extension": ".py",
   "mimetype": "text/x-python",
   "name": "python",
   "nbconvert_exporter": "python",
   "pygments_lexer": "ipython3",
   "version": "3.11.5"
  }
 },
 "nbformat": 4,
 "nbformat_minor": 2
}
